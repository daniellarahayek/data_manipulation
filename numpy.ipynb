{
 "cells": [
  {
   "cell_type": "code",
   "execution_count": 1,
   "id": "c661620a",
   "metadata": {},
   "outputs": [],
   "source": [
    "import numpy as np "
   ]
  },
  {
   "cell_type": "code",
   "execution_count": 2,
   "id": "8dd2c603",
   "metadata": {},
   "outputs": [
    {
     "data": {
      "text/plain": [
       "array([[8, 7, 8, 5],\n",
       "       [2, 6, 8, 1],\n",
       "       [8, 8, 9, 5]])"
      ]
     },
     "execution_count": 2,
     "metadata": {},
     "output_type": "execute_result"
    }
   ],
   "source": [
    "valores = np.array([[8,7,8,5],[2,6,8,1],[8,8,9,5]])\n",
    "valores"
   ]
  },
  {
   "cell_type": "code",
   "execution_count": 3,
   "id": "8ac72fe1",
   "metadata": {},
   "outputs": [
    {
     "data": {
      "text/plain": [
       "7"
      ]
     },
     "execution_count": 3,
     "metadata": {},
     "output_type": "execute_result"
    }
   ],
   "source": [
    "valores[0][1]"
   ]
  },
  {
   "cell_type": "code",
   "execution_count": 4,
   "id": "0baa62d3",
   "metadata": {},
   "outputs": [
    {
     "data": {
      "text/plain": [
       "7"
      ]
     },
     "execution_count": 4,
     "metadata": {},
     "output_type": "execute_result"
    }
   ],
   "source": [
    "valores[0,1]"
   ]
  },
  {
   "cell_type": "code",
   "execution_count": 6,
   "id": "eb67c08d",
   "metadata": {},
   "outputs": [
    {
     "data": {
      "text/plain": [
       "array([[[ 8,  7,  8,  5],\n",
       "        [ 2,  5,  5,  2]],\n",
       "\n",
       "       [[ 2,  6,  8,  4],\n",
       "        [ 8,  9,  7,  4]],\n",
       "\n",
       "       [[ 8,  8,  9,  3],\n",
       "        [10,  9, 10,  8]]])"
      ]
     },
     "execution_count": 6,
     "metadata": {},
     "output_type": "execute_result"
    }
   ],
   "source": [
    "v2 = np.array([[[8,7,8,5],[2,5,5,2]],[[2,6,8,4],[8,9,7,4]],[[8,8,9,3],[10,9,10,8]]])\n",
    "v2"
   ]
  },
  {
   "cell_type": "code",
   "execution_count": 7,
   "id": "48b871a1",
   "metadata": {},
   "outputs": [
    {
     "data": {
      "text/plain": [
       "5"
      ]
     },
     "execution_count": 7,
     "metadata": {},
     "output_type": "execute_result"
    }
   ],
   "source": [
    "v2[0,1,2]"
   ]
  },
  {
   "cell_type": "code",
   "execution_count": 8,
   "id": "c56c1a68",
   "metadata": {},
   "outputs": [
    {
     "data": {
      "text/plain": [
       "array([[[0., 0., 0., 0.],\n",
       "        [0., 0., 0., 0.]],\n",
       "\n",
       "       [[0., 0., 0., 0.],\n",
       "        [0., 0., 0., 0.]],\n",
       "\n",
       "       [[0., 0., 0., 0.],\n",
       "        [0., 0., 0., 0.]]])"
      ]
     },
     "execution_count": 8,
     "metadata": {},
     "output_type": "execute_result"
    }
   ],
   "source": [
    "np.zeros((3,2,4))"
   ]
  },
  {
   "cell_type": "code",
   "execution_count": 9,
   "id": "3fa5a5f9",
   "metadata": {},
   "outputs": [
    {
     "data": {
      "text/plain": [
       "array([[[ 9.,  8.,  9.,  6.],\n",
       "        [ 3.,  6.,  6.,  3.]],\n",
       "\n",
       "       [[ 3.,  7.,  9.,  5.],\n",
       "        [ 9., 10.,  8.,  5.]],\n",
       "\n",
       "       [[ 9.,  9., 10.,  4.],\n",
       "        [11., 10., 11.,  9.]]])"
      ]
     },
     "execution_count": 9,
     "metadata": {},
     "output_type": "execute_result"
    }
   ],
   "source": [
    "v2 + np.ones((3,2,4))"
   ]
  },
  {
   "cell_type": "code",
   "execution_count": 10,
   "id": "a6aa7329",
   "metadata": {},
   "outputs": [
    {
     "data": {
      "text/plain": [
       "6.458333333333333"
      ]
     },
     "execution_count": 10,
     "metadata": {},
     "output_type": "execute_result"
    }
   ],
   "source": [
    "np.mean(v2)"
   ]
  },
  {
   "cell_type": "code",
   "execution_count": 11,
   "id": "9aaeac8d",
   "metadata": {},
   "outputs": [
    {
     "data": {
      "text/plain": [
       "array([[6.        , 7.        , 8.33333333, 4.        ],\n",
       "       [6.66666667, 7.66666667, 7.33333333, 4.66666667]])"
      ]
     },
     "execution_count": 11,
     "metadata": {},
     "output_type": "execute_result"
    }
   ],
   "source": [
    "np.mean(v2,axis=0)"
   ]
  },
  {
   "cell_type": "code",
   "execution_count": 12,
   "id": "e46f7d99",
   "metadata": {},
   "outputs": [
    {
     "data": {
      "text/plain": [
       "array([[[ 1,  2],\n",
       "        [ 3,  4]],\n",
       "\n",
       "       [[ 5,  6],\n",
       "        [ 7,  8]],\n",
       "\n",
       "       [[ 9, 10],\n",
       "        [11, 12]]])"
      ]
     },
     "execution_count": 12,
     "metadata": {},
     "output_type": "execute_result"
    }
   ],
   "source": [
    "np.reshape([1,2,3,4,5,6,7,8,9,10,11,12],(3,2,2))"
   ]
  },
  {
   "cell_type": "code",
   "execution_count": null,
   "id": "aa576361",
   "metadata": {},
   "outputs": [],
   "source": [
    "np.mean(df[\"columna1\"])"
   ]
  },
  {
   "cell_type": "code",
   "execution_count": 14,
   "id": "f20a14d1",
   "metadata": {},
   "outputs": [
    {
     "data": {
      "text/plain": [
       "array([[0.89234448, 0.04385777],\n",
       "       [0.88231041, 0.79522931]])"
      ]
     },
     "execution_count": 14,
     "metadata": {},
     "output_type": "execute_result"
    }
   ],
   "source": [
    "np.random.rand(2,2)"
   ]
  }
 ],
 "metadata": {
  "kernelspec": {
   "display_name": "Python 3 (ipykernel)",
   "language": "python",
   "name": "python3"
  },
  "language_info": {
   "codemirror_mode": {
    "name": "ipython",
    "version": 3
   },
   "file_extension": ".py",
   "mimetype": "text/x-python",
   "name": "python",
   "nbconvert_exporter": "python",
   "pygments_lexer": "ipython3",
   "version": "3.9.12"
  }
 },
 "nbformat": 4,
 "nbformat_minor": 5
}
