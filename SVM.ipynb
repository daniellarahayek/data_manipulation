{
 "cells": [
  {
   "cell_type": "code",
   "execution_count": 1,
   "id": "8b8cf2b3",
   "metadata": {},
   "outputs": [],
   "source": [
    "import pandas as pd\n",
    "import numpy as np\n",
    "from sklearn.svm import SVC\n",
    "\n",
    "\n",
    "df = pd.read_csv(\"C:/Users/Daniel Lara/Downloads/2008.csv\")\n",
    "df = df.dropna(subset =[\"ArrDelay\"])\n",
    "df = df.sample(frac=1)\n",
    "dftest = df.tail(1000)\n",
    "df = df.head(1000)"
   ]
  },
  {
   "cell_type": "code",
   "execution_count": 5,
   "id": "6fc03ba5",
   "metadata": {},
   "outputs": [],
   "source": [
    "X = df[[\"Distance\", \"AirTime\",\"DepTime\",\"TaxiIn\",\"TaxiOut\",\"DepDelay\"]]\n",
    "X_test = dftest[[\"Distance\", \"AirTime\",\"DepTime\",\"TaxiIn\",\"TaxiOut\",\"DepDelay\"]]\n",
    "\n",
    "Y = df[\"ArrDelay\"]>10\n",
    "Y_test = dftest[\"ArrDelay\"]>10\n",
    "\n",
    "clf = SVC(kernel =\"linear\") #kernel =\"linear\"\n",
    "clf.fit(X,Y)\n",
    "\n",
    "Y_pred = clf.predict(X_test)\n",
    "\n",
    "#C / Kernel"
   ]
  },
  {
   "cell_type": "code",
   "execution_count": 6,
   "id": "789b2557",
   "metadata": {},
   "outputs": [
    {
     "data": {
      "text/plain": [
       "0.914"
      ]
     },
     "execution_count": 6,
     "metadata": {},
     "output_type": "execute_result"
    }
   ],
   "source": [
    "np.mean(Y_pred == Y_test)"
   ]
  },
  {
   "cell_type": "code",
   "execution_count": null,
   "id": "4c65f661",
   "metadata": {},
   "outputs": [],
   "source": [
    "# http://scikit-learn.org/stable/modules/svm.html#svm-kernels\n",
    "# linear / poly / rbf / sigmoid -> asociados a otros parametros"
   ]
  },
  {
   "cell_type": "code",
   "execution_count": null,
   "id": "be467995",
   "metadata": {},
   "outputs": [],
   "source": [
    "# para kernels lineales-> LinearSVC()"
   ]
  }
 ],
 "metadata": {
  "kernelspec": {
   "display_name": "Python 3 (ipykernel)",
   "language": "python",
   "name": "python3"
  },
  "language_info": {
   "codemirror_mode": {
    "name": "ipython",
    "version": 3
   },
   "file_extension": ".py",
   "mimetype": "text/x-python",
   "name": "python",
   "nbconvert_exporter": "python",
   "pygments_lexer": "ipython3",
   "version": "3.9.12"
  }
 },
 "nbformat": 4,
 "nbformat_minor": 5
}
