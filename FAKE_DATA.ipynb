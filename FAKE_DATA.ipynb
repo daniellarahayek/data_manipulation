{
 "cells": [
  {
   "cell_type": "code",
   "execution_count": 127,
   "id": "d4725909",
   "metadata": {},
   "outputs": [],
   "source": [
    "import pandas as pd\n",
    "import numpy as np\n",
    "import matplotlib.pyplot as plt\n",
    "import os\n",
    "import datetime as dt\n",
    "\n",
    "# os.listdir('C:/Users/Daniel Lara/Downloads/fake_clinic_data.csv')"
   ]
  },
  {
   "cell_type": "markdown",
   "id": "992a0a34",
   "metadata": {},
   "source": [
    "# *I cleaned the data here and deleted the row where did have any value of revenue, and covert patient id and practitioner_id as a string*"
   ]
  },
  {
   "cell_type": "code",
   "execution_count": 156,
   "id": "602c444f",
   "metadata": {},
   "outputs": [
    {
     "data": {
      "text/html": [
       "<div>\n",
       "<style scoped>\n",
       "    .dataframe tbody tr th:only-of-type {\n",
       "        vertical-align: middle;\n",
       "    }\n",
       "\n",
       "    .dataframe tbody tr th {\n",
       "        vertical-align: top;\n",
       "    }\n",
       "\n",
       "    .dataframe thead th {\n",
       "        text-align: right;\n",
       "    }\n",
       "</style>\n",
       "<table border=\"1\" class=\"dataframe\">\n",
       "  <thead>\n",
       "    <tr style=\"text-align: right;\">\n",
       "      <th></th>\n",
       "      <th>appointment_date</th>\n",
       "      <th>clinic_name</th>\n",
       "      <th>patient_id</th>\n",
       "      <th>practitioner_id</th>\n",
       "      <th>appointment_duration_min</th>\n",
       "      <th>revenues_from_appointment</th>\n",
       "      <th>Month</th>\n",
       "    </tr>\n",
       "  </thead>\n",
       "  <tbody>\n",
       "    <tr>\n",
       "      <th>0</th>\n",
       "      <td>2021-12-30</td>\n",
       "      <td>clinic_2</td>\n",
       "      <td>70172</td>\n",
       "      <td>1030</td>\n",
       "      <td>30</td>\n",
       "      <td>98.13</td>\n",
       "      <td>dic</td>\n",
       "    </tr>\n",
       "    <tr>\n",
       "      <th>1</th>\n",
       "      <td>2021-12-29</td>\n",
       "      <td>clinic_1</td>\n",
       "      <td>53371</td>\n",
       "      <td>756</td>\n",
       "      <td>15</td>\n",
       "      <td>65.13</td>\n",
       "      <td>dic</td>\n",
       "    </tr>\n",
       "    <tr>\n",
       "      <th>2</th>\n",
       "      <td>2021-12-29</td>\n",
       "      <td>clinic_2</td>\n",
       "      <td>69545</td>\n",
       "      <td>1030</td>\n",
       "      <td>30</td>\n",
       "      <td>105.18</td>\n",
       "      <td>dic</td>\n",
       "    </tr>\n",
       "    <tr>\n",
       "      <th>3</th>\n",
       "      <td>2021-12-27</td>\n",
       "      <td>clinic_1</td>\n",
       "      <td>43859</td>\n",
       "      <td>756</td>\n",
       "      <td>30</td>\n",
       "      <td>58.11</td>\n",
       "      <td>dic</td>\n",
       "    </tr>\n",
       "    <tr>\n",
       "      <th>4</th>\n",
       "      <td>2021-12-23</td>\n",
       "      <td>clinic_1</td>\n",
       "      <td>69303</td>\n",
       "      <td>756</td>\n",
       "      <td>30</td>\n",
       "      <td>119.00</td>\n",
       "      <td>dic</td>\n",
       "    </tr>\n",
       "    <tr>\n",
       "      <th>...</th>\n",
       "      <td>...</td>\n",
       "      <td>...</td>\n",
       "      <td>...</td>\n",
       "      <td>...</td>\n",
       "      <td>...</td>\n",
       "      <td>...</td>\n",
       "      <td>...</td>\n",
       "    </tr>\n",
       "    <tr>\n",
       "      <th>4066</th>\n",
       "      <td>2021-08-19</td>\n",
       "      <td>clinic_1</td>\n",
       "      <td>44907</td>\n",
       "      <td>755</td>\n",
       "      <td>30</td>\n",
       "      <td>83.87</td>\n",
       "      <td>Ago</td>\n",
       "    </tr>\n",
       "    <tr>\n",
       "      <th>4067</th>\n",
       "      <td>2021-09-02</td>\n",
       "      <td>clinic_1</td>\n",
       "      <td>45056</td>\n",
       "      <td>757</td>\n",
       "      <td>30</td>\n",
       "      <td>79.91</td>\n",
       "      <td>sep</td>\n",
       "    </tr>\n",
       "    <tr>\n",
       "      <th>4068</th>\n",
       "      <td>2021-08-19</td>\n",
       "      <td>clinic_1</td>\n",
       "      <td>44919</td>\n",
       "      <td>757</td>\n",
       "      <td>30</td>\n",
       "      <td>90.10</td>\n",
       "      <td>Ago</td>\n",
       "    </tr>\n",
       "    <tr>\n",
       "      <th>4069</th>\n",
       "      <td>2021-07-22</td>\n",
       "      <td>clinic_1</td>\n",
       "      <td>45055</td>\n",
       "      <td>755</td>\n",
       "      <td>30</td>\n",
       "      <td>90.90</td>\n",
       "      <td>jul</td>\n",
       "    </tr>\n",
       "    <tr>\n",
       "      <th>4070</th>\n",
       "      <td>2021-07-22</td>\n",
       "      <td>clinic_1</td>\n",
       "      <td>44912</td>\n",
       "      <td>755</td>\n",
       "      <td>15</td>\n",
       "      <td>65.13</td>\n",
       "      <td>jul</td>\n",
       "    </tr>\n",
       "  </tbody>\n",
       "</table>\n",
       "<p>3696 rows × 7 columns</p>\n",
       "</div>"
      ],
      "text/plain": [
       "     appointment_date clinic_name patient_id practitioner_id  \\\n",
       "0          2021-12-30    clinic_2      70172            1030   \n",
       "1          2021-12-29    clinic_1      53371             756   \n",
       "2          2021-12-29    clinic_2      69545            1030   \n",
       "3          2021-12-27    clinic_1      43859             756   \n",
       "4          2021-12-23    clinic_1      69303             756   \n",
       "...               ...         ...        ...             ...   \n",
       "4066       2021-08-19    clinic_1      44907             755   \n",
       "4067       2021-09-02    clinic_1      45056             757   \n",
       "4068       2021-08-19    clinic_1      44919             757   \n",
       "4069       2021-07-22    clinic_1      45055             755   \n",
       "4070       2021-07-22    clinic_1      44912             755   \n",
       "\n",
       "      appointment_duration_min  revenues_from_appointment Month  \n",
       "0                           30                      98.13   dic  \n",
       "1                           15                      65.13   dic  \n",
       "2                           30                     105.18   dic  \n",
       "3                           30                      58.11   dic  \n",
       "4                           30                     119.00   dic  \n",
       "...                        ...                        ...   ...  \n",
       "4066                        30                      83.87   Ago  \n",
       "4067                        30                      79.91   sep  \n",
       "4068                        30                      90.10   Ago  \n",
       "4069                        30                      90.90   jul  \n",
       "4070                        15                      65.13   jul  \n",
       "\n",
       "[3696 rows x 7 columns]"
      ]
     },
     "execution_count": 156,
     "metadata": {},
     "output_type": "execute_result"
    }
   ],
   "source": [
    "df = pd.read_csv('C:/Users/Daniel Lara/Downloads/fake_clinic_data.csv')\n",
    "df[\"patient_id\"] = df[\"patient_id\"].astype(\"str\", copy=True)\n",
    "df[\"practitioner_id\"] = df[\"practitioner_id\"].astype(\"str\", copy=True)\n",
    "df = df.dropna()\n",
    "df['appointment_date']= pd.to_datetime(df['appointment_date'])\n",
    "df[\"Month\"] = df[\"appointment_date\"].dt.month\n",
    "months = {12:'dic',11:'nov',10:'oct',9:'sep',8:'Ago',7:'jul',6:'jun'}\n",
    "df['Month']= df['Month'].replace(months)\n",
    "df"
   ]
  },
  {
   "cell_type": "markdown",
   "id": "35f0bf28",
   "metadata": {},
   "source": [
    "# *I tried to see if there is any correlation between the colums of appointment_duration_min and revenues_from_appointment but it is just 0.26 so you cannot say there ir any correlation*"
   ]
  },
  {
   "cell_type": "code",
   "execution_count": 157,
   "id": "4be98b0d",
   "metadata": {},
   "outputs": [
    {
     "data": {
      "text/html": [
       "<style type=\"text/css\">\n",
       "#T_9405f_row0_col0, #T_9405f_row1_col1 {\n",
       "  background-color: #023858;\n",
       "  color: #f1f1f1;\n",
       "}\n",
       "#T_9405f_row0_col1, #T_9405f_row1_col0 {\n",
       "  background-color: #fff7fb;\n",
       "  color: #000000;\n",
       "}\n",
       "</style>\n",
       "<table id=\"T_9405f\">\n",
       "  <thead>\n",
       "    <tr>\n",
       "      <th class=\"blank level0\" >&nbsp;</th>\n",
       "      <th id=\"T_9405f_level0_col0\" class=\"col_heading level0 col0\" >appointment_duration_min</th>\n",
       "      <th id=\"T_9405f_level0_col1\" class=\"col_heading level0 col1\" >revenues_from_appointment</th>\n",
       "    </tr>\n",
       "  </thead>\n",
       "  <tbody>\n",
       "    <tr>\n",
       "      <th id=\"T_9405f_level0_row0\" class=\"row_heading level0 row0\" >appointment_duration_min</th>\n",
       "      <td id=\"T_9405f_row0_col0\" class=\"data row0 col0\" >1.000000</td>\n",
       "      <td id=\"T_9405f_row0_col1\" class=\"data row0 col1\" >0.268000</td>\n",
       "    </tr>\n",
       "    <tr>\n",
       "      <th id=\"T_9405f_level0_row1\" class=\"row_heading level0 row1\" >revenues_from_appointment</th>\n",
       "      <td id=\"T_9405f_row1_col0\" class=\"data row1 col0\" >0.268000</td>\n",
       "      <td id=\"T_9405f_row1_col1\" class=\"data row1 col1\" >1.000000</td>\n",
       "    </tr>\n",
       "  </tbody>\n",
       "</table>\n"
      ],
      "text/plain": [
       "<pandas.io.formats.style.Styler at 0x26aa67093a0>"
      ]
     },
     "execution_count": 157,
     "metadata": {},
     "output_type": "execute_result"
    }
   ],
   "source": [
    "corr = round(df.corr(),3)\n",
    "corr.style.background_gradient()"
   ]
  },
  {
   "cell_type": "markdown",
   "id": "6f771908",
   "metadata": {},
   "source": [
    "# *here you can see how much did each clinic earned and the total of the revenues from jun-dic 2021*"
   ]
  },
  {
   "cell_type": "code",
   "execution_count": 158,
   "id": "9cff918e",
   "metadata": {},
   "outputs": [
    {
     "name": "stdout",
     "output_type": "stream",
     "text": [
      "             revenues_from_appointment\n",
      "clinic_name                           \n",
      "clinic_1                     307842.74\n",
      "clinic_2                     286711.03\n",
      "\n",
      "\n",
      "Total from jun-dic 2021 is: revenues_from_appointment    594553.77\n",
      "dtype: float64\n"
     ]
    }
   ],
   "source": [
    "avg_clinic = df.groupby(by = [\"clinic_name\"])[['revenues_from_appointment']].sum()\n",
    "print(avg_clinic)\n",
    "print(\"\\n\")\n",
    "print(\"Total from jun-dic 2021 is:\", avg_clinic.sum())"
   ]
  },
  {
   "cell_type": "markdown",
   "id": "8a4427bb",
   "metadata": {},
   "source": [
    "# *I just grouped by clinic and patient in order to find the top 10 patients who spend the most in each clinic*"
   ]
  },
  {
   "cell_type": "code",
   "execution_count": 164,
   "id": "17b30aac",
   "metadata": {},
   "outputs": [
    {
     "data": {
      "text/html": [
       "<div>\n",
       "<style scoped>\n",
       "    .dataframe tbody tr th:only-of-type {\n",
       "        vertical-align: middle;\n",
       "    }\n",
       "\n",
       "    .dataframe tbody tr th {\n",
       "        vertical-align: top;\n",
       "    }\n",
       "\n",
       "    .dataframe thead th {\n",
       "        text-align: right;\n",
       "    }\n",
       "</style>\n",
       "<table border=\"1\" class=\"dataframe\">\n",
       "  <thead>\n",
       "    <tr style=\"text-align: right;\">\n",
       "      <th></th>\n",
       "      <th></th>\n",
       "      <th>revenues_from_appointment</th>\n",
       "    </tr>\n",
       "    <tr>\n",
       "      <th>clinic_name</th>\n",
       "      <th>patient_id</th>\n",
       "      <th></th>\n",
       "    </tr>\n",
       "  </thead>\n",
       "  <tbody>\n",
       "    <tr>\n",
       "      <th rowspan=\"5\" valign=\"top\">clinic_1</th>\n",
       "      <th>43274</th>\n",
       "      <td>266.09</td>\n",
       "    </tr>\n",
       "    <tr>\n",
       "      <th>43317</th>\n",
       "      <td>2188.28</td>\n",
       "    </tr>\n",
       "    <tr>\n",
       "      <th>43318</th>\n",
       "      <td>134.91</td>\n",
       "    </tr>\n",
       "    <tr>\n",
       "      <th>43320</th>\n",
       "      <td>225.86</td>\n",
       "    </tr>\n",
       "    <tr>\n",
       "      <th>43322</th>\n",
       "      <td>1220.03</td>\n",
       "    </tr>\n",
       "    <tr>\n",
       "      <th>...</th>\n",
       "      <th>...</th>\n",
       "      <td>...</td>\n",
       "    </tr>\n",
       "    <tr>\n",
       "      <th rowspan=\"5\" valign=\"top\">clinic_2</th>\n",
       "      <th>70138</th>\n",
       "      <td>98.13</td>\n",
       "    </tr>\n",
       "    <tr>\n",
       "      <th>70172</th>\n",
       "      <td>98.13</td>\n",
       "    </tr>\n",
       "    <tr>\n",
       "      <th>70215</th>\n",
       "      <td>120.45</td>\n",
       "    </tr>\n",
       "    <tr>\n",
       "      <th>70262</th>\n",
       "      <td>125.15</td>\n",
       "    </tr>\n",
       "    <tr>\n",
       "      <th>70307</th>\n",
       "      <td>114.58</td>\n",
       "    </tr>\n",
       "  </tbody>\n",
       "</table>\n",
       "<p>1717 rows × 1 columns</p>\n",
       "</div>"
      ],
      "text/plain": [
       "                        revenues_from_appointment\n",
       "clinic_name patient_id                           \n",
       "clinic_1    43274                          266.09\n",
       "            43317                         2188.28\n",
       "            43318                          134.91\n",
       "            43320                          225.86\n",
       "            43322                         1220.03\n",
       "...                                           ...\n",
       "clinic_2    70138                           98.13\n",
       "            70172                           98.13\n",
       "            70215                          120.45\n",
       "            70262                          125.15\n",
       "            70307                          114.58\n",
       "\n",
       "[1717 rows x 1 columns]"
      ]
     },
     "execution_count": 164,
     "metadata": {},
     "output_type": "execute_result"
    }
   ],
   "source": [
    "avg_patient = df.groupby(by = [\"clinic_name\",\"patient_id\"])[['revenues_from_appointment']].sum()\n",
    "avg_patient"
   ]
  },
  {
   "cell_type": "markdown",
   "id": "1ad9e497",
   "metadata": {},
   "source": [
    "# Top 10 patients who spend the most at clinic 1"
   ]
  },
  {
   "cell_type": "code",
   "execution_count": 166,
   "id": "0581f356",
   "metadata": {},
   "outputs": [
    {
     "data": {
      "image/png": "[encoded data removed]",
      "text/plain": [
       "<Figure size 432x288 with 1 Axes>"
      ]
     },
     "metadata": {
      "needs_background": "light"
     },
     "output_type": "display_data"
    }
   ],
   "source": [
    "gf = avg_patient.loc[\"clinic_1\"].sort_values(\"revenues_from_appointment\",ascending=False).head(10)\n",
    "gf\n",
    "gf.plot(kind=\"bar\", color = \"red\")\n",
    "plt.title(\"top 10 clients who spent the most at clinic_1\")\n",
    "plt.show()"
   ]
  },
  {
   "cell_type": "markdown",
   "id": "8652e811",
   "metadata": {},
   "source": [
    "# Top 10 patients who spend the most at clinic 2"
   ]
  },
  {
   "cell_type": "code",
   "execution_count": 167,
   "id": "7a7ad628",
   "metadata": {},
   "outputs": [
    {
     "data": {
      "image/png": "[encoded data removed]",
      "text/plain": [
       "<Figure size 432x288 with 1 Axes>"
      ]
     },
     "metadata": {
      "needs_background": "light"
     },
     "output_type": "display_data"
    }
   ],
   "source": [
    "gf = avg_patient.loc[\"clinic_2\"].sort_values(\"revenues_from_appointment\",ascending=False).head(10)\n",
    "\n",
    "gf.plot(kind=\"bar\")\n",
    "plt.title(\"top 10 clients who spent the most at clinic_2\")\n",
    "plt.show()"
   ]
  },
  {
   "cell_type": "markdown",
   "id": "4a49ee10",
   "metadata": {},
   "source": [
    "# revenues in each month of the year (Jun-Dic)"
   ]
  },
  {
   "cell_type": "code",
   "execution_count": 151,
   "id": "c2d5b933",
   "metadata": {},
   "outputs": [
    {
     "data": {
      "image/png": "[encoded data removed]",
      "text/plain": [
       "<Figure size 432x288 with 1 Axes>"
      ]
     },
     "metadata": {
      "needs_background": "light"
     },
     "output_type": "display_data"
    }
   ],
   "source": [
    "R_Months = df.groupby(by = ['Month',\"clinic_name\"])[['revenues_from_appointment']].sum()\n",
    "R_Months = R_Months.unstack()\n",
    "R_Months.plot(kind=\"bar\")\n",
    "plt.title(\"top 10 clients who spent the most at clinic_2\")\n",
    "plt.show()"
   ]
  }
 ],
 "metadata": {
  "kernelspec": {
   "display_name": "Python 3 (ipykernel)",
   "language": "python",
   "name": "python3"
  },
  "language_info": {
   "codemirror_mode": {
    "name": "ipython",
    "version": 3
   },
   "file_extension": ".py",
   "mimetype": "text/x-python",
   "name": "python",
   "nbconvert_exporter": "python",
   "pygments_lexer": "ipython3",
   "version": "3.9.12"
  }
 },
 "nbformat": 4,
 "nbformat_minor": 5
}
