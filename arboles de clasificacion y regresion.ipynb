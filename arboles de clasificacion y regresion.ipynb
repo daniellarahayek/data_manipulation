{
 "cells": [
  {
   "cell_type": "code",
   "execution_count": 2,
   "id": "c162cfa9",
   "metadata": {},
   "outputs": [],
   "source": [
    "import pandas as pd\n",
    "import numpy as np\n",
    "from sklearn import tree\n",
    "from sklearn.metrics import r2_score\n",
    "import matplotlib.pyplot as plt\n",
    "\n",
    "df = pd.read_csv(\"C:/Users/Daniel Lara/Downloads/2008.csv\")\n",
    "df = df.dropna(subset =[\"ArrDelay\"])\n",
    "df = df.sample(frac=1)\n",
    "dftest = df.tail(500000)\n",
    "df = df.head(500000)"
   ]
  },
  {
   "cell_type": "code",
   "execution_count": 7,
   "id": "5533551e",
   "metadata": {},
   "outputs": [],
   "source": [
    "clf = tree.DecisionTreeClassifier()\n",
    "\n",
    "X = df[[\"Distance\", \"AirTime\",\"DepTime\",\"TaxiIn\",\"TaxiOut\",\"DepDelay\"]]\n",
    "X_test = dftest[[\"Distance\", \"AirTime\",\"DepTime\",\"TaxiIn\",\"TaxiOut\",\"DepDelay\"]] \n",
    "Y = df[\"ArrDelay\"]>10\n",
    "Y_test = dftest[\"ArrDelay\"]>10\n",
    "\n",
    "clf = clf.fit(X,Y)\n",
    "Y_pred = clf.predict(X)\n",
    "Y_pred_test = clf.predict(X_test)\n",
    "\n",
    "# max_depth, min_samples_split/min_samples_leaf, max_features"
   ]
  },
  {
   "cell_type": "code",
   "execution_count": 8,
   "id": "d3a3b57e",
   "metadata": {},
   "outputs": [
    {
     "data": {
      "text/plain": [
       "1.0"
      ]
     },
     "execution_count": 8,
     "metadata": {},
     "output_type": "execute_result"
    }
   ],
   "source": [
    "np.mean(Y == Y_pred)"
   ]
  },
  {
   "cell_type": "code",
   "execution_count": 9,
   "id": "d017283b",
   "metadata": {},
   "outputs": [
    {
     "data": {
      "text/plain": [
       "0.893838"
      ]
     },
     "execution_count": 9,
     "metadata": {},
     "output_type": "execute_result"
    }
   ],
   "source": [
    "np.mean(Y_test == Y_pred_test)"
   ]
  },
  {
   "cell_type": "code",
   "execution_count": 10,
   "id": "0354c01e",
   "metadata": {},
   "outputs": [
    {
     "name": "stdout",
     "output_type": "stream",
     "text": [
      "R^2 0.9999993950174224\n",
      "R^2 test 0.8948596300639658\n"
     ]
    }
   ],
   "source": [
    "clf = tree.DecisionTreeRegressor()\n",
    "\n",
    "Y = df[\"ArrDelay\"]\n",
    "Y_test = dftest[\"ArrDelay\"]\n",
    "\n",
    "clf = clf.fit(X,Y)\n",
    "Y_pred = clf.predict(X)\n",
    "Y_pred_test = clf.predict(X_test)\n",
    "\n",
    "print(\"R^2\", r2_score(Y,Y_pred))\n",
    "print(\"R^2 test\", r2_score(Y_test,Y_pred_test))"
   ]
  }
 ],
 "metadata": {
  "kernelspec": {
   "display_name": "Python 3 (ipykernel)",
   "language": "python",
   "name": "python3"
  },
  "language_info": {
   "codemirror_mode": {
    "name": "ipython",
    "version": 3
   },
   "file_extension": ".py",
   "mimetype": "text/x-python",
   "name": "python",
   "nbconvert_exporter": "python",
   "pygments_lexer": "ipython3",
   "version": "3.9.12"
  }
 },
 "nbformat": 4,
 "nbformat_minor": 5
}
