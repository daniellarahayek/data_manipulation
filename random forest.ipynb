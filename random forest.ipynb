{
 "cells": [
  {
   "cell_type": "code",
   "execution_count": 1,
   "id": "c8370d80",
   "metadata": {},
   "outputs": [],
   "source": [
    "import pandas as pd\n",
    "import numpy as np\n",
    "from sklearn import tree\n",
    "from sklearn.ensemble import RandomForestClassifier\n",
    "import matplotlib.pyplot as plt\n",
    "\n",
    "df = pd.read_csv(\"C:/Users/Daniel Lara/Downloads/2008.csv\")\n",
    "df = df.dropna(subset =[\"ArrDelay\"])\n",
    "df = df.sample(frac=1)\n",
    "dftest = df.tail(500000)\n",
    "df = df.head(500000)"
   ]
  },
  {
   "cell_type": "code",
   "execution_count": 2,
   "id": "55fa623d",
   "metadata": {},
   "outputs": [],
   "source": [
    "clf = tree.DecisionTreeClassifier()\n",
    "\n",
    "X = df[[\"Distance\", \"AirTime\",\"DepTime\",\"TaxiIn\",\"TaxiOut\",\"DepDelay\"]]\n",
    "X_test = dftest[[\"Distance\", \"AirTime\",\"DepTime\",\"TaxiIn\",\"TaxiOut\",\"DepDelay\"]] \n",
    "Y = df[\"ArrDelay\"]>10\n",
    "Y_test = dftest[\"ArrDelay\"]>10\n",
    "\n",
    "clf = clf.fit(X,Y)\n",
    "Y_pred_test = clf.predict(X_test)\n",
    "\n",
    "# max_depth, min_samples_split/min_samples_leaf, max_features"
   ]
  },
  {
   "cell_type": "code",
   "execution_count": 3,
   "id": "4938802a",
   "metadata": {},
   "outputs": [
    {
     "data": {
      "text/plain": [
       "0.894354"
      ]
     },
     "execution_count": 3,
     "metadata": {},
     "output_type": "execute_result"
    }
   ],
   "source": [
    "np.mean(Y_test == Y_pred_test)"
   ]
  },
  {
   "cell_type": "code",
   "execution_count": 4,
   "id": "0c204357",
   "metadata": {},
   "outputs": [
    {
     "data": {
      "text/plain": [
       "array([0.09209145, 0.08106607, 0.08174707, 0.0507268 , 0.13263485,\n",
       "       0.56173377])"
      ]
     },
     "execution_count": 4,
     "metadata": {},
     "output_type": "execute_result"
    }
   ],
   "source": [
    "clf = RandomForestClassifier(n_estimators=100,n_jobs=-1)\n",
    "clf.fit(X,Y)\n",
    "Y_pred_test = clf.predict(X_test)\n",
    "\n",
    "clf.feature_importances_\n",
    "# n_estimators/ max_features / bootstrap / n_jobs"
   ]
  },
  {
   "cell_type": "code",
   "execution_count": 5,
   "id": "6aa8cf0d",
   "metadata": {},
   "outputs": [
    {
     "data": {
      "text/plain": [
       "0.923814"
      ]
     },
     "execution_count": 5,
     "metadata": {},
     "output_type": "execute_result"
    }
   ],
   "source": [
    "np.mean(Y_test == Y_pred_test)"
   ]
  },
  {
   "cell_type": "code",
   "execution_count": null,
   "id": "a53649b8",
   "metadata": {},
   "outputs": [],
   "source": [
    "#RandomForestRegressor()"
   ]
  }
 ],
 "metadata": {
  "kernelspec": {
   "display_name": "Python 3 (ipykernel)",
   "language": "python",
   "name": "python3"
  },
  "language_info": {
   "codemirror_mode": {
    "name": "ipython",
    "version": 3
   },
   "file_extension": ".py",
   "mimetype": "text/x-python",
   "name": "python",
   "nbconvert_exporter": "python",
   "pygments_lexer": "ipython3",
   "version": "3.9.12"
  }
 },
 "nbformat": 4,
 "nbformat_minor": 5
}
