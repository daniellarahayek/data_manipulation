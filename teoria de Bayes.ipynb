{
 "cells": [
  {
   "cell_type": "code",
   "execution_count": 1,
   "id": "0ad03cc8",
   "metadata": {},
   "outputs": [],
   "source": [
    "import pandas as pd\n",
    "import numpy as np\n",
    "from sklearn.naive_bayes import BernoulliNB\n",
    "from sklearn.naive_bayes import MultinomialNB\n",
    "from sklearn.naive_bayes import GaussianNB\n",
    "import matplotlib.pyplot as plt\n",
    "\n",
    "df = pd.read_csv(\"C:/Users/Daniel Lara/Downloads/2008.csv\")\n",
    "df = df.sample(frac=1)\n",
    "df = df.head(50000)"
   ]
  },
  {
   "cell_type": "code",
   "execution_count": 2,
   "id": "b31af18b",
   "metadata": {},
   "outputs": [],
   "source": [
    "df = df.dropna(subset= [\"ArrDelay\"])"
   ]
  },
  {
   "cell_type": "code",
   "execution_count": 3,
   "id": "7575d15b",
   "metadata": {},
   "outputs": [],
   "source": [
    "Y = df[\"ArrDelay\"] > 0"
   ]
  },
  {
   "cell_type": "code",
   "execution_count": 4,
   "id": "14d84d1f",
   "metadata": {},
   "outputs": [],
   "source": [
    "df[\"Month\"] = df[\"Month\"].apply(str)\n",
    "df[\"DayofMonth\"] = df[\"DayofMonth\"].apply(str)\n",
    "df[\"DayOfWeek\"] = df[\"DayOfWeek\"].apply(str)\n",
    "df[\"TailNum\"] = df[\"TailNum\"].apply(str)\n",
    "\n",
    "\n",
    "X = pd.get_dummies(data = df[[\"Month\",\"DayofMonth\",\"TailNum\",\"DayOfWeek\",\"Origin\",\"Dest\",\"UniqueCarrier\"]])"
   ]
  },
  {
   "cell_type": "code",
   "execution_count": 5,
   "id": "d3cea22f",
   "metadata": {},
   "outputs": [
    {
     "data": {
      "text/html": [
       "<div>\n",
       "<style scoped>\n",
       "    .dataframe tbody tr th:only-of-type {\n",
       "        vertical-align: middle;\n",
       "    }\n",
       "\n",
       "    .dataframe tbody tr th {\n",
       "        vertical-align: top;\n",
       "    }\n",
       "\n",
       "    .dataframe thead th {\n",
       "        text-align: right;\n",
       "    }\n",
       "</style>\n",
       "<table border=\"1\" class=\"dataframe\">\n",
       "  <thead>\n",
       "    <tr style=\"text-align: right;\">\n",
       "      <th></th>\n",
       "      <th>Month_1</th>\n",
       "      <th>Month_10</th>\n",
       "      <th>Month_11</th>\n",
       "      <th>Month_12</th>\n",
       "      <th>Month_2</th>\n",
       "      <th>Month_3</th>\n",
       "      <th>Month_4</th>\n",
       "      <th>Month_5</th>\n",
       "      <th>Month_6</th>\n",
       "      <th>Month_7</th>\n",
       "      <th>...</th>\n",
       "      <th>UniqueCarrier_HA</th>\n",
       "      <th>UniqueCarrier_MQ</th>\n",
       "      <th>UniqueCarrier_NW</th>\n",
       "      <th>UniqueCarrier_OH</th>\n",
       "      <th>UniqueCarrier_OO</th>\n",
       "      <th>UniqueCarrier_UA</th>\n",
       "      <th>UniqueCarrier_US</th>\n",
       "      <th>UniqueCarrier_WN</th>\n",
       "      <th>UniqueCarrier_XE</th>\n",
       "      <th>UniqueCarrier_YV</th>\n",
       "    </tr>\n",
       "  </thead>\n",
       "  <tbody>\n",
       "    <tr>\n",
       "      <th>5910741</th>\n",
       "      <td>0</td>\n",
       "      <td>1</td>\n",
       "      <td>0</td>\n",
       "      <td>0</td>\n",
       "      <td>0</td>\n",
       "      <td>0</td>\n",
       "      <td>0</td>\n",
       "      <td>0</td>\n",
       "      <td>0</td>\n",
       "      <td>0</td>\n",
       "      <td>...</td>\n",
       "      <td>0</td>\n",
       "      <td>0</td>\n",
       "      <td>0</td>\n",
       "      <td>0</td>\n",
       "      <td>0</td>\n",
       "      <td>0</td>\n",
       "      <td>0</td>\n",
       "      <td>0</td>\n",
       "      <td>0</td>\n",
       "      <td>0</td>\n",
       "    </tr>\n",
       "    <tr>\n",
       "      <th>4595</th>\n",
       "      <td>1</td>\n",
       "      <td>0</td>\n",
       "      <td>0</td>\n",
       "      <td>0</td>\n",
       "      <td>0</td>\n",
       "      <td>0</td>\n",
       "      <td>0</td>\n",
       "      <td>0</td>\n",
       "      <td>0</td>\n",
       "      <td>0</td>\n",
       "      <td>...</td>\n",
       "      <td>0</td>\n",
       "      <td>0</td>\n",
       "      <td>0</td>\n",
       "      <td>0</td>\n",
       "      <td>0</td>\n",
       "      <td>0</td>\n",
       "      <td>0</td>\n",
       "      <td>1</td>\n",
       "      <td>0</td>\n",
       "      <td>0</td>\n",
       "    </tr>\n",
       "    <tr>\n",
       "      <th>2690090</th>\n",
       "      <td>0</td>\n",
       "      <td>0</td>\n",
       "      <td>0</td>\n",
       "      <td>0</td>\n",
       "      <td>0</td>\n",
       "      <td>0</td>\n",
       "      <td>0</td>\n",
       "      <td>1</td>\n",
       "      <td>0</td>\n",
       "      <td>0</td>\n",
       "      <td>...</td>\n",
       "      <td>0</td>\n",
       "      <td>0</td>\n",
       "      <td>0</td>\n",
       "      <td>0</td>\n",
       "      <td>0</td>\n",
       "      <td>0</td>\n",
       "      <td>0</td>\n",
       "      <td>1</td>\n",
       "      <td>0</td>\n",
       "      <td>0</td>\n",
       "    </tr>\n",
       "    <tr>\n",
       "      <th>4423541</th>\n",
       "      <td>0</td>\n",
       "      <td>0</td>\n",
       "      <td>0</td>\n",
       "      <td>0</td>\n",
       "      <td>0</td>\n",
       "      <td>0</td>\n",
       "      <td>0</td>\n",
       "      <td>0</td>\n",
       "      <td>0</td>\n",
       "      <td>0</td>\n",
       "      <td>...</td>\n",
       "      <td>0</td>\n",
       "      <td>0</td>\n",
       "      <td>0</td>\n",
       "      <td>0</td>\n",
       "      <td>1</td>\n",
       "      <td>0</td>\n",
       "      <td>0</td>\n",
       "      <td>0</td>\n",
       "      <td>0</td>\n",
       "      <td>0</td>\n",
       "    </tr>\n",
       "    <tr>\n",
       "      <th>6468153</th>\n",
       "      <td>0</td>\n",
       "      <td>0</td>\n",
       "      <td>0</td>\n",
       "      <td>1</td>\n",
       "      <td>0</td>\n",
       "      <td>0</td>\n",
       "      <td>0</td>\n",
       "      <td>0</td>\n",
       "      <td>0</td>\n",
       "      <td>0</td>\n",
       "      <td>...</td>\n",
       "      <td>0</td>\n",
       "      <td>0</td>\n",
       "      <td>0</td>\n",
       "      <td>0</td>\n",
       "      <td>0</td>\n",
       "      <td>0</td>\n",
       "      <td>0</td>\n",
       "      <td>1</td>\n",
       "      <td>0</td>\n",
       "      <td>0</td>\n",
       "    </tr>\n",
       "  </tbody>\n",
       "</table>\n",
       "<p>5 rows × 5715 columns</p>\n",
       "</div>"
      ],
      "text/plain": [
       "         Month_1  Month_10  Month_11  Month_12  Month_2  Month_3  Month_4  \\\n",
       "5910741        0         1         0         0        0        0        0   \n",
       "4595           1         0         0         0        0        0        0   \n",
       "2690090        0         0         0         0        0        0        0   \n",
       "4423541        0         0         0         0        0        0        0   \n",
       "6468153        0         0         0         1        0        0        0   \n",
       "\n",
       "         Month_5  Month_6  Month_7  ...  UniqueCarrier_HA  UniqueCarrier_MQ  \\\n",
       "5910741        0        0        0  ...                 0                 0   \n",
       "4595           0        0        0  ...                 0                 0   \n",
       "2690090        1        0        0  ...                 0                 0   \n",
       "4423541        0        0        0  ...                 0                 0   \n",
       "6468153        0        0        0  ...                 0                 0   \n",
       "\n",
       "         UniqueCarrier_NW  UniqueCarrier_OH  UniqueCarrier_OO  \\\n",
       "5910741                 0                 0                 0   \n",
       "4595                    0                 0                 0   \n",
       "2690090                 0                 0                 0   \n",
       "4423541                 0                 0                 1   \n",
       "6468153                 0                 0                 0   \n",
       "\n",
       "         UniqueCarrier_UA  UniqueCarrier_US  UniqueCarrier_WN  \\\n",
       "5910741                 0                 0                 0   \n",
       "4595                    0                 0                 1   \n",
       "2690090                 0                 0                 1   \n",
       "4423541                 0                 0                 0   \n",
       "6468153                 0                 0                 1   \n",
       "\n",
       "         UniqueCarrier_XE  UniqueCarrier_YV  \n",
       "5910741                 0                 0  \n",
       "4595                    0                 0  \n",
       "2690090                 0                 0  \n",
       "4423541                 0                 0  \n",
       "6468153                 0                 0  \n",
       "\n",
       "[5 rows x 5715 columns]"
      ]
     },
     "execution_count": 5,
     "metadata": {},
     "output_type": "execute_result"
    }
   ],
   "source": [
    "X.head()"
   ]
  },
  {
   "cell_type": "code",
   "execution_count": 6,
   "id": "fb2ec12e",
   "metadata": {},
   "outputs": [],
   "source": [
    "clf = BernoulliNB()\n",
    "# clf = MultinomialNB()\n",
    "clf.fit(X, Y)\n",
    "Y_Pred = clf.predict(X)"
   ]
  },
  {
   "cell_type": "code",
   "execution_count": 9,
   "id": "3eaa28e8",
   "metadata": {},
   "outputs": [
    {
     "data": {
      "text/plain": [
       "0.6559713701431493"
      ]
     },
     "execution_count": 9,
     "metadata": {},
     "output_type": "execute_result"
    }
   ],
   "source": [
    "np.mean(Y == Y_Pred)"
   ]
  },
  {
   "cell_type": "code",
   "execution_count": 10,
   "id": "2d9cf23c",
   "metadata": {},
   "outputs": [
    {
     "data": {
      "text/plain": [
       "0.5640695296523517"
      ]
     },
     "execution_count": 10,
     "metadata": {},
     "output_type": "execute_result"
    }
   ],
   "source": [
    "1 -np.mean(Y)"
   ]
  },
  {
   "cell_type": "code",
   "execution_count": 13,
   "id": "dfe2e041",
   "metadata": {},
   "outputs": [],
   "source": [
    "X = df[[\"AirTime\",\"Distance\",\"TaxiIn\",\"TaxiOut\",\"DepDelay\"]] #DepDelay\n",
    "clf = GaussianNB()\n",
    "clf.fit(X,Y)\n",
    "Y_pred = clf.predict(X)"
   ]
  },
  {
   "cell_type": "code",
   "execution_count": 14,
   "id": "c4071eb0",
   "metadata": {},
   "outputs": [
    {
     "data": {
      "text/plain": [
       "0.8051942740286299"
      ]
     },
     "execution_count": 14,
     "metadata": {},
     "output_type": "execute_result"
    }
   ],
   "source": [
    "np.mean(Y == Y_pred)"
   ]
  }
 ],
 "metadata": {
  "kernelspec": {
   "display_name": "Python 3 (ipykernel)",
   "language": "python",
   "name": "python3"
  },
  "language_info": {
   "codemirror_mode": {
    "name": "ipython",
    "version": 3
   },
   "file_extension": ".py",
   "mimetype": "text/x-python",
   "name": "python",
   "nbconvert_exporter": "python",
   "pygments_lexer": "ipython3",
   "version": "3.9.12"
  }
 },
 "nbformat": 4,
 "nbformat_minor": 5
}
