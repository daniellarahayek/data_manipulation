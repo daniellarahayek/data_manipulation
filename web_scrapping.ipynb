{
 "cells": [
  {
   "cell_type": "code",
   "execution_count": null,
   "id": "836f9430",
   "metadata": {},
   "outputs": [],
   "source": [
    "import pandas as pd\n",
    "import requests\n",
    "from selenium import webdriver\n",
    "import os\n",
    "from selenium.webdriver.common.by import By\n",
    "import time\n",
    "orfeo = pd.DataFrame(columns=['Radicado','Fecha de radicado',\"Asunto\",'Cantidad','Usuario Acutal','Dependencia',\n",
    "                             'Ultimo comentario','Fecha ultimo comentario', 'Persona ultimo comentario'])"
   ]
  },
  {
   "cell_type": "code",
   "execution_count": 6,
   "id": "1e7b7f81",
   "metadata": {},
   "outputs": [],
   "source": [
    "df = pd.read_excel('C://Users//Daniel Lara//OneDrive//Desktop//Contratacion IDRD//orfeo//Orfeo.xlsx')"
   ]
  },
  {
   "cell_type": "code",
   "execution_count": 7,
   "id": "cc53a1e4",
   "metadata": {},
   "outputs": [
    {
     "data": {
      "text/html": [
       "<div>\n",
       "<style scoped>\n",
       "    .dataframe tbody tr th:only-of-type {\n",
       "        vertical-align: middle;\n",
       "    }\n",
       "\n",
       "    .dataframe tbody tr th {\n",
       "        vertical-align: top;\n",
       "    }\n",
       "\n",
       "    .dataframe thead th {\n",
       "        text-align: right;\n",
       "    }\n",
       "</style>\n",
       "<table border=\"1\" class=\"dataframe\">\n",
       "  <thead>\n",
       "    <tr style=\"text-align: right;\">\n",
       "      <th></th>\n",
       "      <th>TEMA</th>\n",
       "      <th>NUMERO DE RADICADO</th>\n",
       "      <th>ASUNTO</th>\n",
       "      <th>ESTADO</th>\n",
       "      <th>FECHA</th>\n",
       "      <th>Cierre de proceso</th>\n",
       "      <th>Feha de cierre</th>\n",
       "      <th>persona</th>\n",
       "    </tr>\n",
       "  </thead>\n",
       "  <tbody>\n",
       "    <tr>\n",
       "      <th>11</th>\n",
       "      <td>NaN</td>\n",
       "      <td>20225000243791</td>\n",
       "      <td>NaN</td>\n",
       "      <td>NaN</td>\n",
       "      <td>NaN</td>\n",
       "      <td>NaN</td>\n",
       "      <td>NaT</td>\n",
       "      <td>NaN</td>\n",
       "    </tr>\n",
       "    <tr>\n",
       "      <th>12</th>\n",
       "      <td>NaN</td>\n",
       "      <td>20225000472403</td>\n",
       "      <td>NaN</td>\n",
       "      <td>NaN</td>\n",
       "      <td>NaN</td>\n",
       "      <td>NaN</td>\n",
       "      <td>NaT</td>\n",
       "      <td>NaN</td>\n",
       "    </tr>\n",
       "    <tr>\n",
       "      <th>13</th>\n",
       "      <td>NaN</td>\n",
       "      <td>20225000247321</td>\n",
       "      <td>NaN</td>\n",
       "      <td>NaN</td>\n",
       "      <td>NaN</td>\n",
       "      <td>NaN</td>\n",
       "      <td>NaT</td>\n",
       "      <td>NaN</td>\n",
       "    </tr>\n",
       "    <tr>\n",
       "      <th>14</th>\n",
       "      <td>NaN</td>\n",
       "      <td>20225000477063</td>\n",
       "      <td>NaN</td>\n",
       "      <td>NaN</td>\n",
       "      <td>NaN</td>\n",
       "      <td>NaN</td>\n",
       "      <td>NaT</td>\n",
       "      <td>NaN</td>\n",
       "    </tr>\n",
       "  </tbody>\n",
       "</table>\n",
       "</div>"
      ],
      "text/plain": [
       "   TEMA  NUMERO DE RADICADO ASUNTO ESTADO FECHA Cierre de proceso  \\\n",
       "11  NaN      20225000243791    NaN    NaN   NaN               NaN   \n",
       "12  NaN      20225000472403    NaN    NaN   NaN               NaN   \n",
       "13  NaN      20225000247321    NaN    NaN   NaN               NaN   \n",
       "14  NaN      20225000477063    NaN    NaN   NaN               NaN   \n",
       "\n",
       "   Feha de cierre persona  \n",
       "11            NaT     NaN  \n",
       "12            NaT     NaN  \n",
       "13            NaT     NaN  \n",
       "14            NaT     NaN  "
      ]
     },
     "execution_count": 7,
     "metadata": {},
     "output_type": "execute_result"
    }
   ],
   "source": [
    "df.tail(4)"
   ]
  },
  {
   "cell_type": "code",
   "execution_count": null,
   "id": "bbf7be60",
   "metadata": {},
   "outputs": [
    {
     "name": "stderr",
     "output_type": "stream",
     "text": [
      "C:\\Users\\Daniel Lara\\AppData\\Local\\Temp\\ipykernel_19604\\2263391239.py:5: DeprecationWarning: executable_path has been deprecated, please pass in a Service object\n",
      "  driver = webdriver.Chrome('webdriver//chromedriver.exe')\n"
     ]
    },
    {
     "name": "stdout",
     "output_type": "stream",
     "text": [
      "COMPILADO\n"
     ]
    }
   ],
   "source": [
    "TOKEN = \"XXXX\"\n",
    "chat_id = \"XXXX\"\n",
    "\n",
    "#abrir chrome\n",
    "driver = webdriver.Chrome('webdriver//chromedriver.exe')\n",
    "time.sleep(1)\n",
    "\n",
    "import time\n",
    "# abrir orfeo\n",
    "driver.get('https://orfeo.idrd.gov.co/index.php')\n",
    "time.sleep(2)\n",
    "\n",
    "#Usuario \n",
    "driver.find_element('xpath','/html/body/form[2]/table/tbody/tr[2]/td[2]/table/tbody/tr/td/table/tbody/tr/td[1]/table/tbody/tr[2]/td[2]/font/input').send_keys('XXXX')\n",
    "# contraseña\n",
    "driver.find_element('xpath','//*[@id=\"drd\"]').send_keys('XXXXX**')\n",
    "# ingresar al orfeo\n",
    "driver.find_element('xpath', '/html/body/form[2]/table/tbody/tr[2]/td[2]/table/tbody/tr/td/table/tbody/tr/td[1]/table/tbody/tr[5]/td/p/input[4]').click()\n",
    "time.sleep(2)\n",
    "\n",
    "for row, datos in df.iterrows():\n",
    "    radicado = datos[\"NUMERO DE RADICADO\"]\n",
    "    \n",
    "    # ingresar a consultas\n",
    "    driver.find_element('xpath','//*[@id=\"accesoD\"]/table/tbody/tr[3]/td[2]/table/tbody/tr/td/table/tbody/tr/td[2]/a/img').click()\n",
    "    # agregar un numero de orfeo\n",
    "    driver.switch_to.frame(driver.find_element(By.XPATH,'/html/body/table/tbody/tr[2]/td[3]/iframe'))\n",
    "    driver.find_element(By.XPATH,'/html/body/form/table/tbody/tr/td/table/tbody/tr[2]/td[2]/input').send_keys(radicado)\n",
    "    #click en el boton\n",
    "    driver.find_element('xpath','//*[@id=\"botonBusqueda\"]/input').click()\n",
    "    time.sleep(1)\n",
    "    #buscar en la tabla\n",
    "    driver.find_element('xpath', '//*[@id=\"contenido\"]/table/tbody/tr[3]/td[2]/a').click()\n",
    "    #llenar matriz\n",
    "    orfeo.at[row, 'Radicado'] = radicado\n",
    "    orfeo.at[row, \"Asunto\"] = driver.find_element('xpath', '//*[@id=\"tb_general\"]/tbody/tr[1]/td[4]').text\n",
    "    orfeo.at[row, 'Fecha de radicado'] = driver.find_element('xpath', '//*[@id=\"tb_general\"]/tbody/tr[1]/td[2]').text\n",
    "    orfeo.at[row, 'Cantidad'] = driver.find_element('xpath', '//*[@id=\"tb_general\"]/tbody/tr[4]/td[6]').text\n",
    "    driver.find_element('xpath', '//*[@id=\"dvBody\"]/form[2]/table/tbody/tr[1]/td[2]/table/tbody/tr/td[2]/a/img').click()\n",
    "    time.sleep(1)\n",
    "    orfeo.at[row, 'Usuario Acutal'] = driver.find_element('xpath', '//*[@id=\"dvBody\"]/form[2]/table/tbody/tr[2]/td/table[1]/tbody/tr[2]/td/table/tbody/tr[1]/td[2]').text\n",
    "    orfeo.at[row, 'Dependencia'] = driver.find_element('xpath', '//*[@id=\"dvBody\"]/form[2]/table/tbody/tr[2]/td/table[1]/tbody/tr[2]/td/table/tbody/tr[1]/td[4]').text\n",
    "    orfeo.at[row, 'Ultimo comentario']= driver.find_element('xpath','//*[@id=\"dvBody\"]/form[2]/table/tbody/tr[2]/td/table[2]/tbody/tr[2]/td/table/tbody/tr[2]/td[5]').text\n",
    "    orfeo.at[row, 'Fecha ultimo comentario']= driver.find_element('xpath','//*[@id=\"dvBody\"]/form[2]/table/tbody/tr[2]/td/table[2]/tbody/tr[2]/td/table/tbody/tr[2]/td[2]').text\n",
    "    orfeo.at[row, 'Persona ultimo comentario']= driver.find_element('xpath','//*[@id=\"dvBody\"]/form[2]/table/tbody/tr[2]/td/table[2]/tbody/tr[2]/td/table/tbody/tr[2]/td[4]').text\n",
    "    driver.refresh()\n",
    "# cerrar el navegador\n",
    "driver.close()  \n",
    "\n",
    "#mensaje de inicio de compilado\n",
    "message = 'Hola Buena Dia estos son los radicados que debes mirar:'\n",
    "url = f\"https://api.telegram.org/bot{TOKEN}/sendMessage?chat_id={chat_id}&text={message}\"\n",
    "requests.get(url).json()\n",
    "\n",
    "# envio de la informacion al celular\n",
    "neworf = orfeo[orfeo[\"Dependencia\"] == 'Subdirección Técnica de Recreación y Deportes']\n",
    "neworf\n",
    "for row, data in neworf.iterrows():\n",
    "    message = data\n",
    "    url = f\"https://api.telegram.org/bot{TOKEN}/sendMessage?chat_id={chat_id}&text={message}\"\n",
    "    requests.get(url).json()\n",
    "    \n",
    "    \n",
    "# Creacion de los libros de Excel \n",
    "with pd.ExcelWriter('C://Users//Daniel Lara//OneDrive//Desktop//Contratacion IDRD//orfeo//Matriz orfeo.xlsx') as writer:  \n",
    "    orfeo.to_excel(writer,\n",
    "             sheet_name='Hoja Bot') \n",
    "    neworf.to_excel(writer,\n",
    "             sheet_name='Seguimiento')\n",
    "    \n",
    "print('COMPILADO')"
   ]
  }
 ],
 "metadata": {
  "kernelspec": {
   "display_name": "Python 3",
   "language": "python",
   "name": "python3"
  },
  "language_info": {
   "codemirror_mode": {
    "name": "ipython",
    "version": 3
   },
   "file_extension": ".py",
   "mimetype": "text/x-python",
   "name": "python",
   "nbconvert_exporter": "python",
   "pygments_lexer": "ipython3",
   "version": "3.10.4 (tags/v3.10.4:9d38120, Mar 23 2022, 23:13:41) [MSC v.1929 64 bit (AMD64)]"
  },
  "vscode": {
   "interpreter": {
    "hash": "d412ad65ca86eb1674c0385517d5261f7ab17b3e44d4330b4e6dc9bc25b297a0"
   }
  }
 },
 "nbformat": 4,
 "nbformat_minor": 5
}
